{
  "cells": [
    {
      "cell_type": "markdown",
      "metadata": {
        "id": "view-in-github",
        "colab_type": "text"
      },
      "source": [
        "<a href=\"https://colab.research.google.com/github/shashidharraju1648/PythonnBitcoin-data-graphical-representation/blob/main/Welcome_To_Colaboratory.ipynb\" target=\"_parent\"><img src=\"https://colab.research.google.com/assets/colab-badge.svg\" alt=\"Open In Colab\"/></a>"
      ]
    },
    {
      "cell_type": "code",
      "source": [
        "import datetime\n",
        "#from urllib import response\n",
        "import requests\n",
        "import pandas as pd\n",
        "#import pandas as pd\n",
        "import matplotlib.pyplot as plt\n",
        "\n",
        "response =requests.get(url=\"https://api.gemini.com/v2/candles/btcusd/1m\")\n",
        "#response.json()\n",
        "\n",
        "#API for the fetching of data \n",
        "base_url = \"https://api.gemini.com\"\n",
        "api_version = \"v2\"\n",
        "symbol = \"btcusd\"\n",
        "time_frame = \"1day\"\n",
        "url = f\"{base_url}/{api_version}/candles/{symbol}/{time_frame}\"\n",
        "url\n",
        "\n",
        "\n",
        "#respone = requests.get(url=url)\n",
        "#response.json()\n",
        "\n",
        "#This get_candles_dataframe function is written for the extracting and inserting it into .csv file\n",
        "def get_candles_dataframe(json_data:str) -> pd.DataFrame:\n",
        "  candles_df = pd.DataFrame(json_data)\n",
        "  candles_df.columns = [\n",
        "                        \"time\",\n",
        "                        \"open_price\",\n",
        "                        \"high_price\",\n",
        "                        \"low_price\",\n",
        "                        \"close_price\",\n",
        "                        \"volume\",\n",
        "\n",
        "  ]\n",
        "\n",
        "  candles_df[\"time\"] = candles_df[\"time\"].apply(\n",
        "      #lambda function for the time stamp and time interval\n",
        "      lambda x: datetime.datetime.fromtimestamp(x / 1000.0)\n",
        "  )\n",
        "  \n",
        "\n",
        "  return candles_df\n",
        "\n",
        "#Getting the response from the api call\n",
        "btcusd_prices_df = get_candles_dataframe(response.json())\n",
        "# The head() function is used to get the first n rows. \n",
        "btcusd_prices_df.head()\n",
        "#Writing the data into the csv file\n",
        "btcusd_prices_df.to_csv('btc_usd_prices1.csv',index=False)\n",
        "\n",
        "\n",
        "\n",
        "#This is the trial representation of graph of the BITCOIN value to tthe most recent cal\n",
        "'''\n",
        "\n",
        "plt.rcParams[\"figure.figsize\"] = [7.50, 3.50]\n",
        "plt.rcParams[\"figure.autolayout\"] = True\n",
        "\n",
        "headers = ['Name', 'Age', 'Marks']\n",
        "\n",
        "df = pd.read_csv('student.csv', names=headers)\n",
        "\n",
        "df.set_index('time').plot()\n",
        "\n",
        "plt.show()'''"
      ],
      "metadata": {
        "id": "8e8vUOIw5cmt",
        "outputId": "afebcbd9-c505-4791-af4b-d955a4293008",
        "colab": {
          "base_uri": "https://localhost:8080/",
          "height": 70
        }
      },
      "execution_count": 1,
      "outputs": [
        {
          "output_type": "execute_result",
          "data": {
            "text/plain": [
              "'\\n\\nplt.rcParams[\"figure.figsize\"] = [7.50, 3.50]\\nplt.rcParams[\"figure.autolayout\"] = True\\n\\nheaders = [\\'Name\\', \\'Age\\', \\'Marks\\']\\n\\ndf = pd.read_csv(\\'student.csv\\', names=headers)\\n\\ndf.set_index(\\'time\\').plot()\\n\\nplt.show()'"
            ],
            "application/vnd.google.colaboratory.intrinsic+json": {
              "type": "string"
            }
          },
          "metadata": {},
          "execution_count": 1
        }
      ]
    }
  ],
  "metadata": {
    "colab": {
      "collapsed_sections": [],
      "name": "Welcome To Colaboratory",
      "provenance": [],
      "include_colab_link": true
    },
    "kernelspec": {
      "display_name": "Python 3",
      "name": "python3"
    }
  },
  "nbformat": 4,
  "nbformat_minor": 0
}
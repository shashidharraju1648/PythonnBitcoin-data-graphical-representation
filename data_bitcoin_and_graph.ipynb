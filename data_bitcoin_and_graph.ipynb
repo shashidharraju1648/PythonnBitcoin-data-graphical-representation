{
  "nbformat": 4,
  "nbformat_minor": 0,
  "metadata": {
    "colab": {
      "name": "data bitcoin and graph",
      "provenance": [],
      "collapsed_sections": [],
      "authorship_tag": "ABX9TyOQUyyHAcUuu1f94tuvqzH1",
      "include_colab_link": true
    },
    "kernelspec": {
      "name": "python3",
      "display_name": "Python 3"
    },
    "language_info": {
      "name": "python"
    }
  },
  "cells": [
    {
      "cell_type": "markdown",
      "metadata": {
        "id": "view-in-github",
        "colab_type": "text"
      },
      "source": [
        "<a href=\"https://colab.research.google.com/github/shashidharraju1648/PythonnBitcoin-data-graphical-representation/blob/main/data_bitcoin_and_graph.ipynb\" target=\"_parent\"><img src=\"https://colab.research.google.com/assets/colab-badge.svg\" alt=\"Open In Colab\"/></a>"
      ]
    },
    {
      "cell_type": "code",
      "execution_count": null,
      "metadata": {
        "colab": {
          "base_uri": "https://localhost:8080/",
          "height": 1000
        },
        "id": "SoIkDp3_yrH1",
        "outputId": "71e863db-46e7-4b31-ed96-593131c3bc90"
      },
      "outputs": [
        {
          "output_type": "stream",
          "name": "stdout",
          "text": [
            "                 timestamp         price\n",
            "0  2022-03-24 21:01:40.330  43844.788720\n",
            "1  2022-03-24 22:02:43.482  43951.126978\n",
            "2  2022-03-24 23:00:39.063  43922.725345\n",
            "3  2022-03-25 00:02:35.804  43936.096235\n",
            "4  2022-03-25 01:03:38.966  43935.935608\n",
            "5  2022-03-25 02:02:46.827  44170.491969\n",
            "6  2022-03-25 03:00:16.974  43897.023949\n",
            "7  2022-03-25 04:02:00.066  43948.495060\n",
            "8  2022-03-25 05:01:26.043  44025.047574\n",
            "9  2022-03-25 06:02:34.405  44053.684908\n",
            "10 2022-03-25 07:01:42.660  44050.444973\n",
            "11 2022-03-25 08:01:25.022  43911.019391\n",
            "12 2022-03-25 09:02:32.788  43931.350869\n",
            "13 2022-03-25 10:03:50.516  44094.152884\n",
            "14 2022-03-25 11:01:55.340  44126.757417\n",
            "15 2022-03-25 12:00:50.844  44575.120955\n",
            "16 2022-03-25 13:01:21.367  44771.665945\n",
            "17 2022-03-25 14:03:26.177  44946.404093\n",
            "18 2022-03-25 15:03:03.989  44826.286336\n",
            "19 2022-03-25 16:03:42.747  44255.980379\n",
            "20 2022-03-25 17:03:22.030  44221.534115\n",
            "21 2022-03-25 18:00:15.621  44253.248750\n",
            "22 2022-03-25 19:02:03.153  44445.732251\n",
            "23 2022-03-25 20:02:32.885  44342.638460\n",
            "24 2022-03-25 21:02:05.978  44518.722225\n",
            "25 2022-03-25 22:02:39.081  44500.916211\n",
            "26 2022-03-25 23:02:04.386  44341.187470\n",
            "27 2022-03-26 00:03:10.533  44331.777957\n",
            "28 2022-03-26 01:04:00.836  44190.733713\n",
            "29 2022-03-26 02:01:47.397  44281.984600\n",
            "30 2022-03-26 03:01:03.378  44251.232605\n",
            "31 2022-03-26 04:03:05.384  44414.814004\n",
            "32 2022-03-26 05:02:44.663  44428.307778\n",
            "33 2022-03-26 06:03:43.123  44470.532653\n",
            "34 2022-03-26 07:03:29.508  44406.139712\n",
            "35 2022-03-26 08:03:01.720  44532.894050\n",
            "36 2022-03-26 09:02:09.518  44478.445860\n",
            "37 2022-03-26 10:00:13.103  44466.530575\n",
            "38 2022-03-26 11:01:02.326  44415.719829\n",
            "39 2022-03-26 12:02:19.335  44369.875572\n",
            "40 2022-03-26 13:04:30.403  44359.453445\n",
            "41 2022-03-26 14:01:28.565  44268.117568\n",
            "42 2022-03-26 15:00:20.325  44194.710298\n",
            "43 2022-03-26 16:02:02.136  44228.805885\n",
            "44 2022-03-26 17:01:09.325  44262.783400\n",
            "45 2022-03-26 18:02:04.317  44365.525573\n",
            "46 2022-03-26 19:01:11.325  44411.451153\n",
            "47 2022-03-26 20:02:22.331  44346.801045\n",
            "48 2022-03-26 20:47:17.000  44682.266677\n"
          ]
        },
        {
          "output_type": "display_data",
          "data": {
            "text/plain": [
              "<Figure size 432x288 with 1 Axes>"
            ],
            "image/png": "[encoded data removed]"
          },
          "metadata": {
            "needs_background": "light"
          }
        }
      ],
      "source": [
        "from time import time\n",
        "from urllib import response\n",
        "import requests\n",
        "import datetime\n",
        "import pandas as pd\n",
        "import matplotlib.pyplot as plt\n",
        "\n",
        "#The above libraries are datetime-for-timestamp, requests-to-scrape data, \n",
        "#pandas-for-datasets, matplotlib-for-graphical representation\n",
        "\n",
        "#available_crypto function is to find available coins in the api.\n",
        "def available_crypto():\n",
        "    #url is the page where all the raw data is displayed\n",
        "    url = f'https://api.coingecko.com/api/v3/coins'\n",
        "\n",
        "    response = requests.get(url)\n",
        "    data = response.json()\n",
        "\n",
        "\n",
        "    crypto_ids = []\n",
        "\n",
        "\n",
        "    for asset in data:\n",
        "        crypto_ids.append(asset['id'])\n",
        "\n",
        "    return crypto_ids\n",
        "\n",
        "#print(available_crypto())\n",
        "\n",
        "#get_market_chart function is to track the market of crypto\n",
        "def get_market_chart(coin_id=['bitcoin','etherum'],vs_currency='usd',days='max', interval='daily'):\n",
        "    crypto_ids = available_crypto()\n",
        "\n",
        "\n",
        "    if coin_id in crypto_ids:\n",
        "        url = f'https://api.coingecko.com/api/v3/coins/{coin_id}/market_chart'\n",
        "        payload = {'vs_currency': vs_currency, 'days': days, 'interval': interval}\n",
        "        response =  requests.get(url,params=payload)\n",
        "        data = response.json()\n",
        "\n",
        "        timestamp_list, price_list = [], []\n",
        "\n",
        "        for price in data['prices']:\n",
        "            timestamp_list.append(datetime.datetime.fromtimestamp(price[0]/1000))\n",
        "            price_list.append(price[1])\n",
        "\n",
        "\n",
        "        raw_data ={\n",
        "            'timestamp': timestamp_list,\n",
        "            'price': price_list\n",
        "        }\n",
        "\n",
        "        df = pd.DataFrame(raw_data)\n",
        "\n",
        "        return df\n",
        "\n",
        "    \n",
        "    else:\n",
        "        print(\"not avaoilble\")\n",
        "        print(crypto_ids)\n",
        "\n",
        "\n",
        "\n",
        "#market_info = get_market_chart('bitcoin','usd', '3800')\n",
        "market_info = get_market_chart(days='2', interval='hourly')\n",
        "\n",
        "print(market_info)\n",
        "\n",
        "\n",
        "market_info.plot(y='price', x='timestamp', color='#4285F4')\n",
        "plt.show()\n",
        "\n"
      ]
    }
  ]
}